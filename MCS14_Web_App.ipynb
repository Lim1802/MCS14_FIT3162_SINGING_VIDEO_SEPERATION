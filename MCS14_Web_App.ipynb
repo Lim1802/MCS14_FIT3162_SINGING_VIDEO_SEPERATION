{
  "cells": [
    {
      "cell_type": "markdown",
      "metadata": {
        "id": "VT65UQ2A_PEL"
      },
      "source": [
        "# **MCS14 Music Separation**"
      ]
    },
    {
      "cell_type": "code",
      "execution_count": 1,
      "metadata": {
        "cellView": "form",
        "collapsed": true,
        "id": "15z1vZgJ--T3"
      },
      "outputs": [],
      "source": [
        "# @title 1. Install Dependencies\n",
        "%%capture\n",
        "%pip install demucs streamlit pyngrok flask flask-ngrok\n",
        "!npm install localtunnel\n",
        "!git clone https://github.com/Lim1802/MCS14_FIT3162_SINGING_VIDEO_SEPERATION.git\n",
        "%cd /content/MCS14_FIT3162_SINGING_VIDEO_SEPERATION/demucs\n",
        "! pip install streamlit-js-eval\n",
        "! pip install streamlit-extras\n",
        "! pip install streamlit-extras"
      ]
    },
    {
      "cell_type": "code",
      "execution_count": null,
      "metadata": {
        "cellView": "form",
        "id": "biAJuoU_E3ZF",
        "collapsed": true
      },
      "outputs": [],
      "source": [
        "# @title 2. Streamlit Code\n",
        "%%writefile app.py\n",
        "import streamlit as st\n",
        "import subprocess\n",
        "import os\n",
        "import soundfile as sf\n",
        "import os\n",
        "from streamlit_js_eval import streamlit_js_eval\n",
        "from streamlit_extras.stylable_container import stylable_container\n",
        "\n",
        "# Create the .streamlit directory if it doesn't exist\n",
        "os.makedirs(os.path.expanduser(\"~/.streamlit\"), exist_ok=True)\n",
        "\n",
        "# Write the config.toml file\n",
        "with open(os.path.expanduser(\"~/.streamlit/config.toml\"), \"w\") as f:\n",
        "    f.write(\"\"\"[theme]\n",
        "primaryColor = \"#1f77b4\"  # Blue color\n",
        "backgroundColor = \"#ffffff\"  # White background\n",
        "secondaryBackgroundColor = \"#f0f8ff\"  # Lighter white for sidebar and other secondary sections\n",
        "textColor = \"#000000\"  # Black text color for readability\n",
        "font = \"sans serif\"\n",
        "\n",
        "[server]\n",
        "maxUploadSize = 50  # max upload size\n",
        "\"\"\")\n",
        "\n",
        "\n",
        "st.title(\"Music Separation :notes:\")\n",
        "\n",
        "if 'seperated_audio' not in st.session_state:\n",
        "    st.session_state.seperated_audio = ''\n",
        "\n",
        "if 'uploaded_file' not in st.session_state:\n",
        "    st.session_state.uploaded_file = ''\n",
        "\n",
        "def del_files():\n",
        "  streamlit_js_eval(js_expressions=\"parent.window.location.reload()\")\n",
        "\n",
        "\n",
        "# File uploader\n",
        "st.session_state.uploaded_file = st.file_uploader(\"Choose a WAV or MP3 file\", type=[\"wav\", \"mp3\"])\n",
        "\n",
        "if st.session_state.uploaded_file:\n",
        "    uploaded_file = st.session_state.uploaded_file\n",
        "    # Display the uploaded audio\n",
        "    if uploaded_file.type == \"audio/mp3\":\n",
        "      st.audio(uploaded_file, format=\"audio/mp3\")\n",
        "\n",
        "      # Save the uploaded file temporarily\n",
        "      with open(\"temp_input.mp3\", \"wb\") as f:\n",
        "          f.write(uploaded_file.getvalue())\n",
        "\n",
        "    else:\n",
        "      st.audio(uploaded_file, format=\"audio/wav\")\n",
        "\n",
        "      # Save the uploaded file temporarily\n",
        "      with open(\"temp_input.wav\", \"wb\") as f:\n",
        "          f.write(uploaded_file.getvalue())\n",
        "\n",
        "    # Button to start processing\n",
        "    if st.button(\"Separate Audio Sources\"):\n",
        "        # Run separation model (20 epochs)\n",
        "        with st.spinner('Processing audio...'):\n",
        "            command = f\"python -m demucs.separate -n d7014c1b --repo /content/MCS14_FIT3162_SINGING_VIDEO_SEPERATION/demucs/release_models temp_input.wav\"\n",
        "            process = subprocess.Popen(command, shell=True, stdout=subprocess.PIPE, stderr=subprocess.PIPE)\n",
        "            stdout, stderr = process.communicate()\n",
        "\n",
        "        if process.returncode == 0:\n",
        "            st.success(\"Audio separation completed successfully!\")\n",
        "\n",
        "            # Find the output directory\n",
        "            output_dir = \"/content/MCS14_FIT3162_SINGING_VIDEO_SEPERATION/demucs/separated/d7014c1b/temp_input\"\n",
        "            st.session_state.seperated_audio = output_dir\n",
        "\n",
        "        else:\n",
        "            st.error(\"Error during audio separation. Please check your input file and try again.\")\n",
        "            st.text(stderr.decode())\n",
        "\n",
        "    if st.session_state.seperated_audio:\n",
        "      if os.path.exists(st.session_state.seperated_audio):\n",
        "        output_dir = st.session_state.seperated_audio\n",
        "        for file in os.listdir(output_dir):\n",
        "            if file.endswith(\".wav\"):\n",
        "                file_path = os.path.join(output_dir, file)\n",
        "                st.write(f\"Separated {file}:\")\n",
        "                st.audio(file_path, format=\"audio/wav\")\n",
        "\n",
        "                # Provide download button for each separated file\n",
        "                with open(file_path, \"rb\") as f:\n",
        "                    st.download_button(\n",
        "                        label=f\"Download {file}\",\n",
        "                        data=f,\n",
        "                        file_name=file,\n",
        "                        mime=\"audio/wav\"\n",
        "                    )\n",
        "        restart = st.button(\"Restart\", key=\"restart_button\", on_click=del_files)\n",
        "\n",
        "\n",
        "    # Clean up temporary file\n",
        "    if os.path.exists(\"temp_input.wav\"):\n",
        "        os.remove(\"temp_input.wav\")"
      ]
    },
    {
      "cell_type": "code",
      "execution_count": null,
      "metadata": {
        "cellView": "form",
        "id": "w276IckEDcct"
      },
      "outputs": [],
      "source": [
        "# @title 3. Web App - Deployment Code\n",
        "!streamlit run app.py &>/content/logs.txt & curl ipv4.icanhazip.com\n",
        "\n",
        "!npx localtunnel --port 8501"
      ]
    }
  ],
  "metadata": {
    "accelerator": "GPU",
    "colab": {
      "gpuType": "T4",
      "machine_shape": "hm",
      "provenance": []
    },
    "kernelspec": {
      "display_name": "Python 3",
      "name": "python3"
    },
    "language_info": {
      "name": "python"
    }
  },
  "nbformat": 4,
  "nbformat_minor": 0
}